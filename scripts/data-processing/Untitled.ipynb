{
 "cells": [
  {
   "cell_type": "code",
   "execution_count": 7,
   "id": "510b29d5-deec-4cf4-b4dd-74d1c06589b5",
   "metadata": {},
   "outputs": [],
   "source": [
    "import pandas as pd"
   ]
  },
  {
   "cell_type": "code",
   "execution_count": 14,
   "id": "f7ef8c2d-185e-4f8e-ae37-93703967d316",
   "metadata": {},
   "outputs": [],
   "source": [
    "df = pd.read_csv('../../data/stage2/train.csv')"
   ]
  },
  {
   "cell_type": "code",
   "execution_count": 19,
   "id": "5b71e892-8f03-460a-8155-0bf66b53b705",
   "metadata": {},
   "outputs": [
    {
     "name": "stdout",
     "output_type": "stream",
     "text": [
      "<class 'pandas.core.frame.DataFrame'>\n",
      "RangeIndex: 891 entries, 0 to 890\n",
      "Data columns (total 4 columns):\n",
      " #   Column    Non-Null Count  Dtype  \n",
      "---  ------    --------------  -----  \n",
      " 0   Survived  891 non-null    int64  \n",
      " 1   Pclass    891 non-null    int64  \n",
      " 2   Sex       891 non-null    object \n",
      " 3   Age       891 non-null    float64\n",
      "dtypes: float64(1), int64(2), object(1)\n",
      "memory usage: 28.0+ KB\n"
     ]
    }
   ],
   "source": [
    "df.info()"
   ]
  },
  {
   "cell_type": "code",
   "execution_count": 17,
   "id": "410e6b0a-7c79-47f7-aed5-29282e00f914",
   "metadata": {},
   "outputs": [],
   "source": [
    "df.loc[df.Sex == 'male', 'Sex'] = 1\n",
    "df.loc[df.Sex == 'female', 'Sex'] = 0"
   ]
  },
  {
   "cell_type": "code",
   "execution_count": 21,
   "id": "5a9c60f1-a47f-4fb7-ab8e-5f5c6becf2c7",
   "metadata": {},
   "outputs": [],
   "source": [
    "df.Sex = df.Sex.astype(int)"
   ]
  },
  {
   "cell_type": "code",
   "execution_count": null,
   "id": "9a0a8f65-39fe-41af-8ecd-98fac5820c8e",
   "metadata": {},
   "outputs": [],
   "source": []
  }
 ],
 "metadata": {
  "kernelspec": {
   "display_name": "Python 3 (ipykernel)",
   "language": "python",
   "name": "python3"
  },
  "language_info": {
   "codemirror_mode": {
    "name": "ipython",
    "version": 3
   },
   "file_extension": ".py",
   "mimetype": "text/x-python",
   "name": "python",
   "nbconvert_exporter": "python",
   "pygments_lexer": "ipython3",
   "version": "3.10.12"
  }
 },
 "nbformat": 4,
 "nbformat_minor": 5
}
